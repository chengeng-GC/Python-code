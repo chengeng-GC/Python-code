{
 "cells": [
  {
   "cell_type": "code",
   "execution_count": 1,
   "metadata": {},
   "outputs": [
    {
     "name": "stdout",
     "output_type": "stream",
     "text": [
      "Welcome to 330740Large Scale Computing\n"
     ]
    }
   ],
   "source": [
    "print(\"Welcome to 330740Large Scale Computing\")"
   ]
  },
  {
   "cell_type": "code",
   "execution_count": 2,
   "metadata": {},
   "outputs": [
    {
     "name": "stdout",
     "output_type": "stream",
     "text": [
      "330740\n",
      "3.1415\n"
     ]
    }
   ],
   "source": [
    "myint = 330740\n",
    "print(myint)\n",
    "myfloat = 3.1415\n",
    "print(myfloat)"
   ]
  },
  {
   "cell_type": "code",
   "execution_count": 3,
   "metadata": {},
   "outputs": [
    {
     "name": "stdout",
     "output_type": "stream",
     "text": [
      "330740\n",
      "Hadoop\n"
     ]
    }
   ],
   "source": [
    "myFirstString = '330740'\n",
    "print(myFirstString)\n",
    "mySecondString = \"Hadoop\"\n",
    "print(mySecondString)"
   ]
  },
  {
   "cell_type": "code",
   "execution_count": 6,
   "metadata": {},
   "outputs": [
    {
     "name": "stdout",
     "output_type": "stream",
     "text": [
      "330743.1415\n",
      "330736.8585\n",
      "1039019.7100000001\n",
      "105280.91675950978\n",
      "2.8799999999809245\n",
      "330740Hadoop\n"
     ]
    }
   ],
   "source": [
    "addition = myint + myfloat\n",
    "print(addition)\n",
    "subtraction = myint - myfloat\n",
    "print(subtraction)\n",
    "multiplication = myint * myfloat\n",
    "print(multiplication)\n",
    "division = myint / myfloat\n",
    "print(division)\n",
    "mod = myint % myfloat\n",
    "print(mod)\n",
    "concatenate1 = myFirstString + mySecondString\n",
    "print(concatenate1)"
   ]
  },
  {
   "cell_type": "code",
   "execution_count": 7,
   "metadata": {},
   "outputs": [
    {
     "name": "stdout",
     "output_type": "stream",
     "text": [
      "330\n",
      "740\n",
      "['large', 'scale', 'computing']\n"
     ]
    }
   ],
   "source": [
    "intList = [330, 740]\n",
    "stringList = []\n",
    "stringList.append(\"large\")\n",
    "stringList.append(\"scale\")\n",
    "stringList.append(\"computing\")\n",
    "print(intList[0])\n",
    "print(intList[1])\n",
    "print(stringList)"
   ]
  },
  {
   "cell_type": "code",
   "execution_count": 8,
   "metadata": {},
   "outputs": [
    {
     "name": "stdout",
     "output_type": "stream",
     "text": [
      "True\n",
      "False\n",
      "B\n"
     ]
    }
   ],
   "source": [
    "name = \"John\"\n",
    "age = 23\n",
    "print(name == \"John\")\n",
    "print(age > 25)\n",
    "score = 85\n",
    "if score >= 90:\n",
    " print(\"A\")\n",
    "elif score >=80:\n",
    " print(\"B\")\n",
    "else:\n",
    " print(\"C\")"
   ]
  },
  {
   "cell_type": "code",
   "execution_count": 9,
   "metadata": {},
   "outputs": [
    {
     "name": "stdout",
     "output_type": "stream",
     "text": [
      "0\n",
      "1\n",
      "2\n",
      "3\n",
      "4\n",
      "large\n",
      "scale\n",
      "computing\n"
     ]
    }
   ],
   "source": [
    "for x in range(5):\n",
    " print(x)\n",
    "for x in stringList:\n",
    " print(x)"
   ]
  },
  {
   "cell_type": "code",
   "execution_count": 14,
   "metadata": {},
   "outputs": [
    {
     "name": "stdout",
     "output_type": "stream",
     "text": [
      "B\n"
     ]
    }
   ],
   "source": [
    "def convert2letter(totalScore):\n",
    " if totalScore >= 90:\n",
    "     return \"A\"\n",
    " elif totalScore >= 80:\n",
    "     return \"B\"\n",
    " else:\n",
    "     return \"C\"\n",
    "johnScore = 80\n",
    "print(convert2letter(johnScore))"
   ]
  },
  {
   "cell_type": "code",
   "execution_count": 16,
   "metadata": {},
   "outputs": [
    {
     "name": "stdout",
     "output_type": "stream",
     "text": [
      "Integer: 330740\n",
      "Float: 3.141500\n",
      "First element of stringList: large\n",
      "intList has 2 elements, and the last element is 740\n"
     ]
    }
   ],
   "source": [
    "print(\"Integer: %d\" % myint)\n",
    "print(\"Float: %f\" % myfloat)\n",
    "print(\"First element of stringList: %s\" % stringList[0])\n",
    "print(\"intList has %d elements, and the last element is %d\" % (len(intList),intList[-1]))"
   ]
  },
  {
   "cell_type": "code",
   "execution_count": 17,
   "metadata": {},
   "outputs": [
    {
     "name": "stdout",
     "output_type": "stream",
     "text": [
      "Jack receives C from my course\n",
      "Jill receives A from my course\n"
     ]
    }
   ],
   "source": [
    "scoreBook={}\n",
    "scoreBook[\"John\"]=80\n",
    "scoreBook[\"Jack\"]=75\n",
    "scoreBook[\"Jill\"]=92\n",
    "print(\"Jack receives %s from my course\" % \n",
    "convert2letter(scoreBook[\"Jack\"]))\n",
    "print(\"Jill receives %s from my course\" % \n",
    "convert2letter(scoreBook[\"Jill\"]))"
   ]
  },
  {
   "cell_type": "code",
   "execution_count": null,
   "metadata": {},
   "outputs": [],
   "source": []
  }
 ],
 "metadata": {
  "kernelspec": {
   "display_name": "Python 3",
   "language": "python",
   "name": "python3"
  },
  "language_info": {
   "codemirror_mode": {
    "name": "ipython",
    "version": 3
   },
   "file_extension": ".py",
   "mimetype": "text/x-python",
   "name": "python",
   "nbconvert_exporter": "python",
   "pygments_lexer": "ipython3",
   "version": "3.8.5"
  }
 },
 "nbformat": 4,
 "nbformat_minor": 4
}
